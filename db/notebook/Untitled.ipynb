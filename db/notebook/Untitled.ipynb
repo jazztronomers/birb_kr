{
 "cells": [
  {
   "cell_type": "code",
   "execution_count": 1,
   "id": "c1115fc8-0c1f-4430-b360-75c151d5786e",
   "metadata": {},
   "outputs": [],
   "source": [
    "import pymongo\n",
    "import random\n",
    "\n",
    "\n"
   ]
  },
  {
   "cell_type": "code",
   "execution_count": 2,
   "id": "84c0c36b-4e9f-423e-b89f-64dc042116ed",
   "metadata": {},
   "outputs": [
    {
     "name": "stdout",
     "output_type": "stream",
     "text": [
      "['B218', 'B031', 'B042', 'B321', 'B281', 'B105', 'B207', 'B142', 'B284', 'B070', 'B157', 'B154', 'B161', 'B078', 'B210', 'B051', 'B248', 'B091', 'B314', 'B103', 'B152', 'B190', 'B045', 'B077', 'B202', 'B283', 'B308', 'B265', 'B097', 'B178', 'B187', 'B274']\n"
     ]
    }
   ],
   "source": [
    "B1 = ['B218','B031','B042','B321','B281','B105','B207','B142','B284','B070','B157','B154','B161','B078','B210','B051']\n",
    "B2 = ['B248','B091','B314','B103','B152','B190','B045','B077','B202','B283','B308']\n",
    "B3 = ['B265','B097','B178','B187','B274']\n",
    "\n",
    "B = B1+B2+B3\n",
    "\n",
    "print(B)"
   ]
  },
  {
   "cell_type": "code",
   "execution_count": 3,
   "id": "0face758-e309-4c8e-ad8b-720b00003ff7",
   "metadata": {},
   "outputs": [
    {
     "data": {
      "text/plain": [
       "'B070'"
      ]
     },
     "execution_count": 3,
     "metadata": {},
     "output_type": "execute_result"
    }
   ],
   "source": [
    "random.choice(B)"
   ]
  },
  {
   "cell_type": "code",
   "execution_count": 7,
   "id": "dfd5aab8-0cdd-4384-8f38-e808e1f4aa44",
   "metadata": {},
   "outputs": [
    {
     "name": "stdout",
     "output_type": "stream",
     "text": [
      "{'_id': ObjectId('62071e18019bbf1dadbc6099'), 'bid': 'B302', 'species_kr': '흰부리아비', 'order_kr': '아비목', 'family_kr': '아비과', 'species_en': 'White-billed Diver[Yellow-billed Loon]', 'order_en': 'ORDER GAVIIFORMES', 'family_en': 'Family Gaviidae', 'species_sn': 'Gavia adamsii', 'order_sn': 'ORDER GAVIIFORMES', 'family_sn': 'Family Gaviidae', 'observe_level_kr': '아주 드묾', 'observe_level': 4, 'iucn': 'LC', 'sites': 'NA', 'nm': 'NA', 'el': 'NA', 'seasonal_spec': 1}\n",
      "{'_id': ObjectId('62071e18019bbf1dadbc609a'), 'bid': 'B059', 'species_kr': '아비', 'order_kr': '아비목', 'family_kr': '아비과', 'species_en': 'Red-throated Diver[Red-throated Loon]', 'order_en': 'ORDER GAVIIFORMES', 'family_en': 'Family Gaviidae', 'species_sn': 'Gavia stellata', 'order_sn': 'ORDER GAVIIFORMES', 'family_sn': 'Family Gaviidae', 'observe_level_kr': '흔하지 않음', 'observe_level': 4, 'iucn': 'NA', 'sites': 'NA', 'nm': 'NA', 'el': 'NA', 'seasonal_spec': 2}\n",
      "{'_id': ObjectId('62071e18019bbf1dadbc609b'), 'bid': 'B198', 'species_kr': '큰회색머리아비', 'order_kr': '아비목', 'family_kr': '아비과', 'species_en': 'Arctic Diver[Black-throated Diver]', 'order_en': 'ORDER GAVIIFORMES', 'family_en': 'Family Gaviidae', 'species_sn': 'Gavia arctica', 'order_sn': 'ORDER GAVIIFORMES', 'family_sn': 'Family Gaviidae', 'observe_level_kr': '드믊', 'observe_level': 3, 'iucn': 'LC', 'sites': 'NA', 'nm': 'NA', 'el': 'NA', 'seasonal_spec': 3}\n",
      "{'_id': ObjectId('62071e18019bbf1dadbc609c'), 'bid': 'B389', 'species_kr': '회색머리아비', 'order_kr': '아비목', 'family_kr': '아비과', 'species_en': 'Pacific Diver[Pacific Loon]', 'order_en': 'ORDER GAVIIFORMES', 'family_en': 'Family Gaviidae', 'species_sn': 'Gavia pacifica', 'order_sn': 'ORDER GAVIIFORMES', 'family_sn': 'Family Gaviidae', 'observe_level_kr': '드묾', 'observe_level': 3, 'iucn': 'LC', 'sites': 'NA', 'nm': 'NA', 'el': 'NA', 'seasonal_spec': 4}\n",
      "{'_id': ObjectId('62071e18019bbf1dadbc609d'), 'bid': 'B301', 'species_kr': '검은목논병아리', 'order_kr': '논병아리목', 'family_kr': '논병아리과', 'species_en': 'Black-necked Grebe', 'order_en': 'ORDER PODICIPEDIFORMES', 'family_en': 'Family Podicipedidae', 'species_sn': 'Podiceps nigricollis', 'order_sn': 'ORDER PODICIPEDIFORMES', 'family_sn': 'Family Podicipedidae', 'observe_level_kr': '흔함', 'observe_level': 2, 'iucn': 'LC', 'sites': 'NA', 'nm': 'NA', 'el': 'NA', 'seasonal_spec': 5}\n",
      "{'_id': ObjectId('62071e18019bbf1dadbc609e'), 'bid': 'B145', 'species_kr': '뿔논병아리', 'order_kr': '논병아리목', 'family_kr': '논병아리과', 'species_en': 'Great Crested Grebe', 'order_en': 'ORDER PODICIPEDIFORMES', 'family_en': 'Family Podicipedidae', 'species_sn': 'Podiceps cristatus', 'order_sn': 'ORDER PODICIPEDIFORMES', 'family_sn': 'Family Podicipedidae', 'observe_level_kr': '흔함', 'observe_level': 2, 'iucn': 'LC', 'sites': 'NA', 'nm': 'NA', 'el': 'NA', 'seasonal_spec': 6}\n",
      "{'_id': ObjectId('62071e19019bbf1dadbc609f'), 'bid': 'B042', 'species_kr': '논병아리', 'order_kr': '논병아리목', 'family_kr': '논병아리과', 'species_en': 'Little Grebe', 'order_en': 'ORDER PODICIPEDIFORMES', 'family_en': 'Family Podicipedidae', 'species_sn': 'Tachybaptus ruficollis', 'order_sn': 'ORDER PODICIPEDIFORMES', 'family_sn': 'Family Podicipedidae', 'observe_level_kr': '아주 흔함', 'observe_level': 1, 'iucn': 'NA', 'sites': 'NA', 'nm': 'NA', 'el': 'NA', 'seasonal_spec': 1}\n",
      "{'_id': ObjectId('62071e19019bbf1dadbc60a0'), 'bid': 'B310', 'species_kr': '귀뿔논병아리', 'order_kr': '논병아리목', 'family_kr': '논병아리과', 'species_en': 'Horned Grebe[Slavonian Grebe]', 'order_en': 'ORDER PODICIPEDIFORMES', 'family_en': 'Family Podicipedidae', 'species_sn': 'Podiceps auritus', 'order_sn': 'ORDER PODICIPEDIFORMES', 'family_sn': 'Family Podicipedidae', 'observe_level_kr': '흔하지 않음', 'observe_level': 4, 'iucn': 'LC', 'sites': 'NA', 'nm': 'NA', 'el': 'NA', 'seasonal_spec': 7}\n",
      "{'_id': ObjectId('62071e19019bbf1dadbc60a1'), 'bid': 'B390', 'species_kr': '큰논병아리', 'order_kr': '논병아리목', 'family_kr': '논병아리과', 'species_en': 'Red-necked Grebe', 'order_en': 'ORDER PODICIPEDIFORMES', 'family_en': 'Family Podicipedidae', 'species_sn': 'Podiceps grisegena', 'order_sn': 'ORDER PODICIPEDIFORMES', 'family_sn': 'Family Podicipedidae', 'observe_level_kr': '드묾', 'observe_level': 3, 'iucn': 'LC', 'sites': 'NA', 'nm': 'NA', 'el': 'NA', 'seasonal_spec': 8}\n",
      "{'_id': ObjectId('62071e19019bbf1dadbc60a2'), 'bid': 'B391', 'species_kr': '알바트로스', 'order_kr': '슴새목', 'family_kr': '알바트로스과', 'species_en': 'Short-tailed Albatross', 'order_en': 'ORDER PROCELLARIIFORMES', 'family_en': 'Family Diomedeidae', 'species_sn': 'Phoebastria albatrus', 'order_sn': 'ORDER PROCELLARIIFORMES', 'family_sn': 'Family Diomedeidae', 'observe_level_kr': '희귀', 'observe_level': 5, 'iucn': 'VU', 'sites': 'NA', 'nm': 'NA', 'el': 'NA', 'seasonal_spec': 1}\n",
      "{'_id': ObjectId('62071e19019bbf1dadbc60a3'), 'bid': 'B394', 'species_kr': '붉은발슴새', 'order_kr': '슴새목', 'family_kr': '슴새과', 'species_en': 'Flesh-footed Shearwater[Pale-footed Shearwater]', 'order_en': 'ORDER PROCELLARIIFORMES', 'family_en': 'Family Procellaridae', 'species_sn': 'Puffinus carneipes', 'order_sn': 'ORDER PROCELLARIIFORMES', 'family_sn': 'Family Procellaridae', 'observe_level_kr': '드묾', 'observe_level': 3, 'iucn': 'LC', 'sites': 'NA', 'nm': 'NA', 'el': 'NA', 'seasonal_spec': 1}\n",
      "{'_id': ObjectId('62071e19019bbf1dadbc60a4'), 'bid': 'B393', 'species_kr': '슴새', 'order_kr': '슴새목', 'family_kr': '슴새과', 'species_en': 'Streaked Shearwater[White-faced Shearwater]', 'order_en': 'ORDER PROCELLARIIFORMES', 'family_en': 'Family Procellaridae', 'species_sn': 'Calonectris leucomelas', 'order_sn': 'ORDER PROCELLARIIFORMES', 'family_sn': 'Family Procellaridae', 'observe_level_kr': '드묾', 'observe_level': 3, 'iucn': 'LC', 'sites': 'NA', 'nm': 'NA', 'el': 'NA', 'seasonal_spec': 1}\n",
      "{'_id': ObjectId('62071e1a019bbf1dadbc60a5'), 'bid': 'B395', 'species_kr': '쇠부리슴새', 'order_kr': '슴새목', 'family_kr': '슴새과', 'species_en': 'Short-tailed Shearwater[Slender-billed Shearwater]', 'order_en': 'ORDER PROCELLARIIFORMES', 'family_en': 'Family Procellaridae', 'species_sn': 'Puffinus tenuirostris', 'order_sn': 'ORDER PROCELLARIIFORMES', 'family_sn': 'Family Procellaridae', 'observe_level_kr': '아주 드묾', 'observe_level': 4, 'iucn': 'LC', 'sites': 'NA', 'nm': 'NA', 'el': 'NA', 'seasonal_spec': 2}\n",
      "{'_id': ObjectId('62071e1a019bbf1dadbc60a6'), 'bid': 'B392', 'species_kr': '흰배슴새', 'order_kr': '슴새목', 'family_kr': '슴새과', 'species_en': 'Bonin Petrel', 'order_en': 'ORDER PROCELLARIIFORMES', 'family_en': 'Family Procellaridae', 'species_sn': 'Pterodroma hypoleuca', 'order_sn': 'ORDER PROCELLARIIFORMES', 'family_sn': 'Family Procellaridae', 'observe_level_kr': '희귀', 'observe_level': 5, 'iucn': 'LC', 'sites': 'NA', 'nm': 'NA', 'el': 'NA', 'seasonal_spec': 2}\n",
      "{'_id': ObjectId('62071e1a019bbf1dadbc60a7'), 'bid': 'B290', 'species_kr': '바다제비', 'order_kr': '슴새목', 'family_kr': '바다제비과', 'species_en': \"Swinhoe's Storm Petrel\", 'order_en': 'ORDER PROCELLARIIFORMES', 'family_en': 'Family Hydrobatidae', 'species_sn': 'Oceanodroma monorhis', 'order_sn': 'ORDER PROCELLARIIFORMES', 'family_sn': 'Family Hydrobatidae', 'observe_level_kr': '국지적으로 흔함', 'observe_level': 3, 'iucn': 'LC', 'sites': 'NA', 'nm': 'NA', 'el': 'NA', 'seasonal_spec': 2}\n",
      "{'_id': ObjectId('62071e1a019bbf1dadbc60a8'), 'bid': 'B342', 'species_kr': '사다새', 'order_kr': '사다새목', 'family_kr': '사다새과', 'species_en': 'Dalmatian Pelican[Spot-billed Pelican]', 'order_en': 'ORDER PELECANIFORMES', 'family_en': 'Family Pelecanidae', 'species_sn': 'Pelecanus crispus', 'order_sn': 'ORDER PELECANIFORMES', 'family_sn': 'Family Pelecanidae', 'observe_level_kr': '아주 드묾', 'observe_level': 4, 'iucn': 'NA', 'sites': '1', 'nm': 'NA', 'el': 'NA', 'seasonal_spec': 3}\n",
      "{'_id': ObjectId('62071e1a019bbf1dadbc60a9'), 'bid': 'B397', 'species_kr': '갈색얼가니새', 'order_kr': '사다새목', 'family_kr': '얼가니새과', 'species_en': 'Brown Booby', 'order_en': 'ORDER PELECANIFORMES', 'family_en': 'Family Sulidae', 'species_sn': 'Sula leucogaster', 'order_sn': 'ORDER PELECANIFORMES', 'family_sn': 'Family Sulidae', 'observe_level_kr': '희귀', 'observe_level': 5, 'iucn': 'NA', 'sites': 'NA', 'nm': 'NA', 'el': 'NA', 'seasonal_spec': 4}\n",
      "{'_id': ObjectId('62071e1a019bbf1dadbc60aa'), 'bid': 'B396', 'species_kr': '푸른얼굴얼가니새', 'order_kr': '사다새목', 'family_kr': '얼가니새과', 'species_en': 'Masked Booby[Blue-faced Booby]', 'order_en': 'ORDER PELECANIFORMES', 'family_en': 'Family Sulidae', 'species_sn': 'Sula dactylatra', 'order_sn': 'ORDER PELECANIFORMES', 'family_sn': 'Family Sulidae', 'observe_level_kr': '희귀', 'observe_level': 5, 'iucn': 'NA', 'sites': 'NA', 'nm': 'NA', 'el': 'NA', 'seasonal_spec': 5}\n",
      "{'_id': ObjectId('62071e1a019bbf1dadbc60ab'), 'bid': 'B012', 'species_kr': '가마우지', 'order_kr': '사다새목', 'family_kr': '가마우지과', 'species_en': 'Temminck’s Cormorant', 'order_en': 'ORDER PELECANIFORMES', 'family_en': 'Family Phalacrocoracidae', 'species_sn': 'Phalacrocorax capillatus', 'order_sn': 'ORDER PELECANIFORMES', 'family_sn': 'Family Phalacrocoracidae', 'observe_level_kr': '흔함', 'observe_level': 2, 'iucn': 'LC', 'sites': 'NA', 'nm': 'NA', 'el': 'NA', 'seasonal_spec': 9}\n",
      "{'_id': ObjectId('62071e1a019bbf1dadbc60ac'), 'bid': 'B183', 'species_kr': '쇠가마우지', 'order_kr': '사다새목', 'family_kr': '가마우지과', 'species_en': 'Pelagic Cormorant', 'order_en': 'ORDER PELECANIFORMES', 'family_en': 'Family Phalacrocoracidae', 'species_sn': 'Phalacrocorax pelagicus', 'order_sn': 'ORDER PELECANIFORMES', 'family_sn': 'Family Phalacrocoracidae', 'observe_level_kr': '흔함', 'observe_level': 2, 'iucn': 'LC', 'sites': 'NA', 'nm': 'NA', 'el': '2', 'seasonal_spec': 10}\n"
     ]
    }
   ],
   "source": [
    "mongo_client = pymongo.MongoClient(\"mongodb://localhost:27017/\")\n",
    "\n",
    "mongo_db_local = mongo_client[\"local\"]\n",
    "mongo_bird = mongo_db_local['bird']\n",
    "\n",
    "\n",
    "query = {\"observe_level\": { \"$lt\": 3 }}\n",
    "query = {}\n",
    "\n",
    "def get_all_bird():\n",
    "    for bird in mongo_bird.find(query):\n",
    "        print(bird)\n",
    "        \n",
    "get_all_bird()\n",
    "        "
   ]
  },
  {
   "cell_type": "code",
   "execution_count": 7,
   "id": "ec8e8f53-7403-4d9c-8c9b-ec2c6f1db493",
   "metadata": {},
   "outputs": [
    {
     "name": "stdout",
     "output_type": "stream",
     "text": [
      "{'_id': ObjectId('62071f030a267ac40a00ad0c'), 'content_id': 1, 'publish_timestamp': '2022-02-12 11:44:19', 'observe_timestamp': '2021-09-13 21:46:9', 'camera': 'Canon EOS 90D', 'lens': '150-600mm F5-6.3 DG OS HSM | Contemporary 015', 'object_key': 'gyb0418/1.png', 'x': 126.8232688, 'y': 37.4835502, 'species': ['B109']}\n",
      "{'_id': ObjectId('62071f040a267ac40a00ad0d'), 'content_id': 2, 'publish_timestamp': '2022-02-12 11:44:20', 'observe_timestamp': '2021-09-04 3:21:23', 'camera': 'Canon EOS 90D', 'lens': '150-600mm F5-6.3 DG OS HSM | Contemporary 015', 'object_key': 'gyb0418/2.png', 'x': 126.8249425, 'y': 37.4853892, 'species': ['B354']}\n",
      "{'_id': ObjectId('62071f040a267ac40a00ad0e'), 'content_id': 3, 'publish_timestamp': '2022-02-12 11:44:20', 'observe_timestamp': '2021-09-12 2:50:5', 'camera': 'Canon EOS 90D', 'lens': '150-600mm F5-6.3 DG OS HSM | Contemporary 015', 'object_key': 'gyb0418/3.png', 'x': 126.8944224, 'y': 37.559045, 'species': ['B112']}\n"
     ]
    }
   ],
   "source": [
    "mongo_client = pymongo.MongoClient(\"mongodb://localhost:27017/\")\n",
    "\n",
    "mongo_db_local = mongo_client[\"local\"]\n",
    "mongo_col = mongo_db_local['content']\n",
    "\n",
    "\n",
    "query = {\"observe_level\": { \"$lt\": 3 }}\n",
    "query = {}\n",
    "\n",
    "def get_all_user():\n",
    "    for user in mongo_col.find(query):\n",
    "        print(user)\n",
    "        \n",
    "get_all_user()"
   ]
  },
  {
   "cell_type": "code",
   "execution_count": null,
   "id": "ca24a2d5-17d5-4720-af10-37596ba74405",
   "metadata": {},
   "outputs": [
    {
     "data": {
      "text/plain": [
       "<pymongo.results.UpdateResult at 0x7f7f081497c0>"
      ]
     },
     "execution_count": 26,
     "metadata": {},
     "output_type": "execute_result"
    }
   ],
   "source": [
    "query = {\"email\": {\"$eq\": \"rubenchu@naver.com\"}}\n",
    "append = {\n",
    "    '$set': {\n",
    "        \"collection\":[{\"year\":\"2020\", \"bids\": []},\n",
    "                      {\"year\":\"2021\", \"bids\": []},\n",
    "                      {\"year\":\"2022\", \"bids\": []}]\n",
    "    }\n",
    "}\n",
    "\n",
    "append = {\n",
    "    '$set': {\n",
    "        \"user_id\":\"rubenchu\"\n",
    "    }\n",
    "}\n",
    "\n",
    "\n",
    "\n",
    "mongo_col.update_one(query, append)"
   ]
  },
  {
   "cell_type": "code",
   "execution_count": 4,
   "id": "21e69b5a-3978-423f-a059-f5eacd824b4b",
   "metadata": {},
   "outputs": [],
   "source": [
    "# 월드컵 경기장   14- 23\n",
    "x_max = 126.8978175\n",
    "y_max = 37.5638492\n",
    "\n",
    "x_min = 126.8895777\n",
    "y_min = 37.5563989\n",
    "\n",
    "\n",
    "# 푸른 수목원     1-14\n",
    "x_max = 126.8282517\n",
    "y_min = 37.4861800\n",
    "\n",
    "x_max = 126.820012\n",
    "y_min = 37.4801863"
   ]
  },
  {
   "cell_type": "code",
   "execution_count": 6,
   "id": "266a9038-520f-4394-a8c0-b691a4105beb",
   "metadata": {},
   "outputs": [
    {
     "name": "stdout",
     "output_type": "stream",
     "text": [
      "['B218', 'B031', 'B042', 'B321', 'B281', 'B105', 'B207', 'B142', 'B284', 'B070', 'B157', 'B154', 'B161', 'B078', 'B210', 'B051', 'B248', 'B091', 'B314', 'B103', 'B152', 'B190', 'B045', 'B077', 'B202', 'B283', 'B308', 'B265', 'B097', 'B178', 'B187', 'B274']\n",
      "ERROR! Session/line number was not unique in database. History logging moved to new session 49\n"
     ]
    }
   ],
   "source": [
    "import pymongo\n",
    "import random\n",
    "from random import randrange\n",
    "from datetime import timedelta\n",
    "from datetime import datetime\n",
    "\n",
    "\n",
    "B1 = ['B218','B031','B042','B321','B281','B105','B207','B142','B284','B070','B157','B154','B161','B078','B210','B051']\n",
    "B2 = ['B248','B091','B314','B103','B152','B190','B045','B077','B202','B283','B308']\n",
    "B3 = ['B265','B097','B178','B187','B274']\n",
    "\n",
    "B = B1+B2+B3\n",
    "\n",
    "print(B)"
   ]
  },
  {
   "cell_type": "code",
   "execution_count": 7,
   "id": "80b67282-93fc-4fc9-bc56-7bb2c01b964a",
   "metadata": {},
   "outputs": [],
   "source": [
    "def get_random_timestamp():\n",
    "    def random_date(start, end):\n",
    "        delta = end - start\n",
    "        int_delta = (delta.days * 24 * 60 * 60) + delta.seconds\n",
    "        random_second = randrange(int_delta)\n",
    "        return start + timedelta(seconds=random_second)\n",
    "\n",
    "\n",
    "    d1 = datetime.strptime('1/1/2021 1:30 PM', '%m/%d/%Y %I:%M %p')\n",
    "    d2 = datetime.strptime('1/1/2022 1:30 AM', '%m/%d/%Y %I:%M %p')\n",
    "    return str(random_date(d1, d2))"
   ]
  },
  {
   "cell_type": "code",
   "execution_count": 8,
   "id": "cd53b387-d9a5-496c-ae1b-0496f9c34167",
   "metadata": {},
   "outputs": [],
   "source": [
    "round(random.uniform(124, 128), 7)\n",
    "random.choice(B)\n",
    "get_random_timestamp()"
   ]
  },
  {
   "cell_type": "code",
   "execution_count": 12,
   "id": "7f23866b-8e0d-4a29-8bd3-cf851c1708a7",
   "metadata": {},
   "outputs": [],
   "source": [
    "mongo_client = pymongo.MongoClient(\"mongodb://localhost:27017/\")\n",
    "mongo_db_local = mongo_client[\"local\"]\n",
    "mongo_db_local.drop_collection('content')"
   ]
  },
  {
   "cell_type": "code",
   "execution_count": 16,
   "id": "c863b557-658f-4c08-8fbb-2e2441496cd4",
   "metadata": {},
   "outputs": [
    {
     "data": {
      "text/plain": [
       "'user_id_1'"
      ]
     },
     "execution_count": 16,
     "metadata": {},
     "output_type": "execute_result"
    }
   ],
   "source": [
    "mongo_db_local['content'].create_index('content_id')\n",
    "mongo_db_local['content'].create_index('user_id')"
   ]
  },
  {
   "cell_type": "code",
   "execution_count": 14,
   "id": "66d554a0-cfae-4e12-91fc-7a476e327cac",
   "metadata": {},
   "outputs": [],
   "source": [
    "def make_sample(user_id, x_max, x_min, y_max, y_min, s_min, s_max, cnt):\n",
    "    mongo_client = pymongo.MongoClient(\"mongodb://localhost:27017/\")\n",
    "    mongo_db_local = mongo_client[\"local\"]\n",
    "    mongo_col = mongo_db_local['content']\n",
    "    \n",
    "    s = random.randint(s_min, s_max)\n",
    "    x = round(random.uniform(x_min, x_max), 7)\n",
    "    y = round(random.uniform(y_min, y_max), 7)\n",
    "    \n",
    "    \n",
    "    data = []\n",
    "    for i in range (cnt):\n",
    "        \n",
    "        d = {'content_id': i,\n",
    "             'user_id': user_id,\n",
    "            'publish_timestamp': get_random_timestamp(), \n",
    "            'observe_timestamp': None, \n",
    "            'camera': 'Canon EOS 90D', \n",
    "            'lens': '150-600mm F5-6.3 DG OS HSM | Contemporary 015', \n",
    "            'object_key': '%s/%s.jpg'%(user_id, random.randint(s_min, s_max)), \n",
    "            'x': round(random.uniform(x_min, x_max), 7),\n",
    "            'y': round(random.uniform(y_min, y_max), 7),\n",
    "            'species': [random.choice(B)]}\n",
    "        \n",
    "        data.append(d)\n",
    "\n",
    "    \n",
    "    mongo_col.insert_many(data)"
   ]
  },
  {
   "cell_type": "code",
   "execution_count": null,
   "id": "1ab3a4d9-30c1-4390-96d5-97a4e48d69df",
   "metadata": {},
   "outputs": [],
   "source": []
  },
  {
   "cell_type": "code",
   "execution_count": 15,
   "id": "3a45b560-f28e-47f3-a0d9-01340a93f834",
   "metadata": {},
   "outputs": [],
   "source": [
    "# 월드컵 경기장   14- 23\n",
    "x_max = 126.8978175\n",
    "y_max = 37.5638492\n",
    "\n",
    "x_min = 126.8895777\n",
    "y_min = 37.5563989\n",
    "\n",
    "\n",
    "make_sample('user1', x_max, x_min, y_max, y_min, 14, 23, 50)\n",
    "make_sample('user2', x_max, x_min, y_max, y_min, 14, 23, 50)\n",
    "\n",
    "\n",
    "# 푸른 수목원     1-14\n",
    "x_max = 126.8282517\n",
    "y_min = 37.4861800\n",
    "\n",
    "x_max = 126.820012\n",
    "y_min = 37.4801863\n",
    "\n",
    "\n",
    "make_sample('user3', x_max, x_min, y_max, y_min, 1, 14, 50)\n",
    "make_sample('user4', x_max, x_min, y_max, y_min, 1, 14, 50)"
   ]
  },
  {
   "cell_type": "code",
   "execution_count": null,
   "id": "5fe75b47-606e-4994-aaf3-d8ed64880208",
   "metadata": {},
   "outputs": [],
   "source": []
  }
 ],
 "metadata": {
  "kernelspec": {
   "display_name": "Python 3 (ipykernel)",
   "language": "python",
   "name": "python3"
  },
  "language_info": {
   "codemirror_mode": {
    "name": "ipython",
    "version": 3
   },
   "file_extension": ".py",
   "mimetype": "text/x-python",
   "name": "python",
   "nbconvert_exporter": "python",
   "pygments_lexer": "ipython3",
   "version": "3.8.10"
  }
 },
 "nbformat": 4,
 "nbformat_minor": 5
}
