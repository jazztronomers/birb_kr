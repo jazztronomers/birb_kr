{
 "cells": [
  {
   "cell_type": "code",
   "execution_count": 1,
   "id": "0629b0d7-5eb6-4a4c-a62a-ced9eb3a629a",
   "metadata": {},
   "outputs": [],
   "source": [
    "import pymongo\n",
    "mongo_client = pymongo.MongoClient(\"mongodb://localhost:27017/\")\n",
    "\n",
    "mongo_db_local = mongo_client[\"local\"]\n",
    "mongo_db_local.drop_collection(\"test\")\n",
    "\n",
    "mongo_col = mongo_db_local['test']\n"
   ]
  },
  {
   "cell_type": "code",
   "execution_count": 2,
   "id": "554c0727-e7d0-41bd-886d-a0d55e84a917",
   "metadata": {},
   "outputs": [
    {
     "data": {
      "text/plain": [
       "16"
      ]
     },
     "execution_count": 2,
     "metadata": {},
     "output_type": "execute_result"
    }
   ],
   "source": [
    "import random\n",
    "\n",
    "random.randint(10,30)"
   ]
  },
  {
   "cell_type": "code",
   "execution_count": 3,
   "id": "d8810a1b-7c1b-43f7-a2ba-e458df5edd38",
   "metadata": {},
   "outputs": [],
   "source": [
    "mylist = [\n",
    "  { \"name\": \"Amy\", \"age\":random.randint(10, 30), \"address\": \"Apple st 652\"},\n",
    "  { \"name\": \"Hannah\", \"age\":random.randint(10, 30), \"address\": \"Mountain 21\"},\n",
    "  { \"name\": \"Michael\", \"age\":random.randint(10, 30), \"address\": \"Valley 345\"},\n",
    "  { \"name\": \"Sandy\", \"age\":random.randint(10, 30), \"address\": \"Ocean blvd 2\"},\n",
    "  { \"name\": \"Betty\", \"age\":random.randint(10, 30), \"address\": \"Green Grass 1\"},\n",
    "  { \"name\": \"Richard\", \"age\":random.randint(10, 30), \"address\": \"Sky st 331\"},\n",
    "  { \"name\": \"Susan\", \"age\":random.randint(10, 30), \"address\": \"One way 98\"},\n",
    "  { \"name\": \"Vicky\", \"age\":random.randint(10, 30), \"address\": \"Yellow Garden 2\"},\n",
    "  { \"name\": \"Ben\", \"age\":random.randint(10, 30), \"address\": \"Park Lane 38\"},\n",
    "  { \"name\": \"William\", \"age\":random.randint(10, 30), \"address\": \"Central st 954\"},\n",
    "  { \"name\": \"Chuck\", \"age\":random.randint(10, 30), \"address\": \"Main Road 989\"},\n",
    "  { \"name\": \"Viola\", \"age\":random.randint(10, 30), \"address\": \"Sideway 1633\"}\n",
    "]"
   ]
  },
  {
   "cell_type": "code",
   "execution_count": 4,
   "id": "d313372f-5386-4264-a1ee-b0abc96a3c81",
   "metadata": {},
   "outputs": [
    {
     "data": {
      "text/plain": [
       "[{'name': 'Amy', 'age': 27, 'address': 'Apple st 652'},\n",
       " {'name': 'Hannah', 'age': 27, 'address': 'Mountain 21'},\n",
       " {'name': 'Michael', 'age': 13, 'address': 'Valley 345'},\n",
       " {'name': 'Sandy', 'age': 17, 'address': 'Ocean blvd 2'},\n",
       " {'name': 'Betty', 'age': 15, 'address': 'Green Grass 1'},\n",
       " {'name': 'Richard', 'age': 30, 'address': 'Sky st 331'},\n",
       " {'name': 'Susan', 'age': 13, 'address': 'One way 98'},\n",
       " {'name': 'Vicky', 'age': 28, 'address': 'Yellow Garden 2'},\n",
       " {'name': 'Ben', 'age': 20, 'address': 'Park Lane 38'},\n",
       " {'name': 'William', 'age': 25, 'address': 'Central st 954'},\n",
       " {'name': 'Chuck', 'age': 10, 'address': 'Main Road 989'},\n",
       " {'name': 'Viola', 'age': 12, 'address': 'Sideway 1633'}]"
      ]
     },
     "execution_count": 4,
     "metadata": {},
     "output_type": "execute_result"
    }
   ],
   "source": [
    "mylist"
   ]
  },
  {
   "cell_type": "code",
   "execution_count": 5,
   "id": "6f3acfb4-a1c8-4e18-aa67-a2581a476ce5",
   "metadata": {},
   "outputs": [
    {
     "data": {
      "text/plain": [
       "<pymongo.results.InsertManyResult at 0x7ff6521a7540>"
      ]
     },
     "execution_count": 5,
     "metadata": {},
     "output_type": "execute_result"
    }
   ],
   "source": [
    "mongo_col.insert_many(mylist)"
   ]
  },
  {
   "cell_type": "code",
   "execution_count": 25,
   "id": "bf70a6e0-afc3-41d0-979b-23cfb2fabfe0",
   "metadata": {},
   "outputs": [
    {
     "name": "stdout",
     "output_type": "stream",
     "text": [
      "{'_id': ObjectId('61ff26806ab013390bc77601'), 'name': 'Chuck', 'age': 10, 'address': 'Main Road 989'}\n",
      "{'_id': ObjectId('61ff26806ab013390bc77602'), 'name': 'Viola', 'age': 12, 'address': 'Sideway 1633'}\n",
      "{'_id': ObjectId('61ff26806ab013390bc775f9'), 'name': 'Michael', 'age': 13, 'address': 'Valley 345'}\n",
      "{'_id': ObjectId('61ff26806ab013390bc775fd'), 'name': 'Susan', 'age': 13, 'address': 'One way 98'}\n",
      "{'_id': ObjectId('61ff26806ab013390bc775fb'), 'name': 'Betty', 'age': 15, 'address': 'Green Grass 1'}\n",
      "{'_id': ObjectId('61ff26806ab013390bc775fa'), 'name': 'Sandy', 'age': 17, 'address': 'Ocean blvd 2'}\n",
      "{'_id': ObjectId('61ff26806ab013390bc775ff'), 'name': 'Ben', 'age': 20, 'address': 'Park Lane 38'}\n",
      "{'_id': ObjectId('61ff26806ab013390bc77600'), 'name': 'William', 'age': 25, 'address': 'Central st 954'}\n",
      "{'_id': ObjectId('61ff26806ab013390bc775f7'), 'name': 'Amy', 'age': 27, 'address': 'Apple st 652'}\n",
      "{'_id': ObjectId('61ff26806ab013390bc775f8'), 'name': 'Hannah', 'age': 27, 'address': 'Mountain 21'}\n",
      "{'_id': ObjectId('61ff26806ab013390bc775fe'), 'name': 'Vicky', 'age': 28, 'address': 'Yellow Garden 2'}\n",
      "{'_id': ObjectId('61ff26806ab013390bc775fc'), 'name': 'Richard', 'age': 30, 'address': 'Sky st 331'}\n"
     ]
    }
   ],
   "source": [
    "for x in mongo_col.find({\"age\":{\"$gt\":0}}).sort(\"age\", 1):\n",
    "    print(x)"
   ]
  },
  {
   "cell_type": "code",
   "execution_count": 7,
   "id": "88fbf294-b56e-4430-9c96-b69cb253e18e",
   "metadata": {},
   "outputs": [],
   "source": [
    "cur = mongo_col.find({\"age\":{\"$gt\":13}}).sort(\"age\", -1).skip(2)"
   ]
  },
  {
   "cell_type": "code",
   "execution_count": 10,
   "id": "4576ddfe-dbf6-4404-ab76-395d5fac5e17",
   "metadata": {},
   "outputs": [
    {
     "data": {
      "text/plain": [
       "True"
      ]
     },
     "execution_count": 10,
     "metadata": {},
     "output_type": "execute_result"
    }
   ],
   "source": [
    "cur.alive"
   ]
  },
  {
   "cell_type": "code",
   "execution_count": 19,
   "id": "88e1a242-ff67-4b67-8944-080bb720f651",
   "metadata": {},
   "outputs": [],
   "source": [
    "def select(skip=2, limit=5):\n",
    "    \n",
    "    ret = []\n",
    "    cur = mongo_col.find({\"age\":{\"$gt\":13}}).sort(\"age\", -1).skip(skip)\n",
    "    for i in range(limit):\n",
    "        ret.append(cur.next())\n",
    "        if not cur.alive:\n",
    "            has_next= False\n",
    "            break\n",
    "        else:\n",
    "            has_next= True\n",
    "    \n",
    "    return ret, has_next\n",
    "    "
   ]
  },
  {
   "cell_type": "code",
   "execution_count": 22,
   "id": "fbb3ba8f-1fec-493d-a188-7407404cb953",
   "metadata": {},
   "outputs": [
    {
     "name": "stdout",
     "output_type": "stream",
     "text": [
      "{'_id': ObjectId('61ff26806ab013390bc77600'), 'name': 'William', 'age': 25, 'address': 'Central st 954'}\n",
      "{'_id': ObjectId('61ff26806ab013390bc775ff'), 'name': 'Ben', 'age': 20, 'address': 'Park Lane 38'}\n",
      "{'_id': ObjectId('61ff26806ab013390bc775fa'), 'name': 'Sandy', 'age': 17, 'address': 'Ocean blvd 2'}\n",
      "True\n"
     ]
    }
   ],
   "source": [
    "ret, has_next = select(skip=4, limit=3)\n",
    "\n",
    "for i in ret:\n",
    "    print(i)\n",
    "print(has_next)"
   ]
  },
  {
   "cell_type": "code",
   "execution_count": null,
   "id": "12d75b04-ac02-4b23-9da8-9d69d7566cdc",
   "metadata": {},
   "outputs": [],
   "source": []
  }
 ],
 "metadata": {
  "kernelspec": {
   "display_name": "Python 3 (ipykernel)",
   "language": "python",
   "name": "python3"
  },
  "language_info": {
   "codemirror_mode": {
    "name": "ipython",
    "version": 3
   },
   "file_extension": ".py",
   "mimetype": "text/x-python",
   "name": "python",
   "nbconvert_exporter": "python",
   "pygments_lexer": "ipython3",
   "version": "3.8.10"
  }
 },
 "nbformat": 4,
 "nbformat_minor": 5
}
