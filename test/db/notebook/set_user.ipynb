{
 "cells": [
  {
   "cell_type": "code",
   "execution_count": 1,
   "id": "8d406394-963e-4dda-82f6-27a318c85194",
   "metadata": {},
   "outputs": [],
   "source": [
    "import pymongo"
   ]
  },
  {
   "cell_type": "code",
   "execution_count": 2,
   "id": "582b9b5a-b797-4392-98d1-72623a29064f",
   "metadata": {},
   "outputs": [],
   "source": [
    "mongo_client = pymongo.MongoClient(\"mongodb://localhost:27017/\")\n",
    "\n",
    "mongo_db_local = mongo_client[\"local\"]\n",
    "mongo_col = mongo_db_local['user']"
   ]
  },
  {
   "cell_type": "code",
   "execution_count": 3,
   "id": "a8cf9c9b-a04f-428a-be07-bebbbbf330f5",
   "metadata": {},
   "outputs": [],
   "source": [
    "def get_user(email):\n",
    "    user = mongo_col.find_one({\"email\":{\"$eq\": email}})\n",
    "    return user\n",
    "\n",
    "## NEW KEY\n",
    "def update_add_ney_key_value(email, key, value):\n",
    "    query = {\"email\": {\"$eq\": email}}\n",
    "\n",
    "    append = {\n",
    "        '$set': {\n",
    "                key: value\n",
    "        }\n",
    "    }\n",
    "\n",
    "    mongo_col.update_one(query, append)\n",
    "\n",
    "\n",
    "\n",
    "# def update_push_value_to_nested_array(email, value):\n",
    "#     query = {\"email\": {\"$eq\": email}}\n",
    "#     # PUSH WHETHER EXISTENCE\n",
    "#     # mongo_col.update_one(query, {\"$push\": {\"collection.$[].2020\": value}})\n",
    "\n",
    "#     # PUSH IF NOT EXISTS\n",
    "#     mongo_col.update_one(query,  { \"$addToSet\": {\"collection.$[].2020\" : value}})\n",
    "\n",
    "# def remove_collection_value_from_nested(email, value):\n",
    "#     query = {\"email\": {\"$eq\": email}}\n",
    "#     mongo_col.update_one(query,  { \"$pull\": {\"collection.$[].2020\" : value}})"
   ]
  },
  {
   "cell_type": "code",
   "execution_count": 8,
   "id": "508d6ba6-7047-4e45-925a-c06b213712c2",
   "metadata": {},
   "outputs": [
    {
     "name": "stdout",
     "output_type": "stream",
     "text": [
      "{'_id': ObjectId('61fe2fb199a43e46a10945c4'), 'email': 'gyb0418@gmail.com', 'pw': 'bce4df02ecf0c8aa2258f144b47f6f9dad6e2c11cb5b37283f06c2fae428a71e', 'username': 'jazzbirb', 'collection': {'2020': [], '2021': [], '2022': []}}\n",
      "{'_id': ObjectId('61fe2fb199a43e46a10945c4'), 'email': 'gyb0418@gmail.com', 'pw': 'bce4df02ecf0c8aa2258f144b47f6f9dad6e2c11cb5b37283f06c2fae428a71e', 'username': 'jazzbirb', 'collection': [{'year': 2020, 'bids': []}, {'year': 2021, 'bids': []}, {'year': 2022, 'bids': []}]}\n"
     ]
    }
   ],
   "source": [
    "## PUSH\n",
    "\n",
    "if __name__==\"__main__\":\n",
    "\n",
    "    email = \"gyb0418@gmail.com\"\n",
    "    user = get_user(email)\n",
    "    print(user)\n",
    "\n",
    "    update_add_ney_key_value(email, 'collection', [{\"year\": 2020, \"bids\": []},\n",
    "                                                   {\"year\": 2021, \"bids\": []},\n",
    "                                                   {\"year\": 2022, \"bids\": []}])\n",
    "\n",
    "    # update_push_value_to_nested_array(\"rubenchu@naver.com\", '005')\n",
    "    # remove_collection_value_from_nested(email, '008')\n",
    "    user = get_user(email)\n",
    "    print(user)"
   ]
  },
  {
   "cell_type": "code",
   "execution_count": null,
   "id": "afd8d1fc-b5d3-438d-82cf-c89fb3832696",
   "metadata": {},
   "outputs": [],
   "source": []
  }
 ],
 "metadata": {
  "kernelspec": {
   "display_name": "Python 3 (ipykernel)",
   "language": "python",
   "name": "python3"
  },
  "language_info": {
   "codemirror_mode": {
    "name": "ipython",
    "version": 3
   },
   "file_extension": ".py",
   "mimetype": "text/x-python",
   "name": "python",
   "nbconvert_exporter": "python",
   "pygments_lexer": "ipython3",
   "version": "3.8.10"
  }
 },
 "nbformat": 4,
 "nbformat_minor": 5
}
