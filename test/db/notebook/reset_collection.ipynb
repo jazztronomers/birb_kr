{
 "cells": [
  {
   "cell_type": "code",
   "execution_count": 2,
   "id": "10ed4043-3cf3-4b58-a610-a9a6a9c7fa4e",
   "metadata": {},
   "outputs": [],
   "source": [
    "import pymongo"
   ]
  },
  {
   "cell_type": "code",
   "execution_count": 3,
   "id": "a2b52652-aaf5-42e4-b773-dade79758b9e",
   "metadata": {},
   "outputs": [],
   "source": [
    "mongo_client = pymongo.MongoClient(\"mongodb://localhost:27017/\")\n",
    "\n",
    "mongo_db_local = mongo_client[\"local\"]\n",
    "mongo_col = mongo_db_local['user']"
   ]
  },
  {
   "cell_type": "code",
   "execution_count": 4,
   "id": "442482ff-0905-4e83-ace2-5dcdc2ab9aa0",
   "metadata": {},
   "outputs": [
    {
     "data": {
      "text/plain": [
       "{'nIndexesWas': 2, 'ns': 'local.user', 'ok': 1.0}"
      ]
     },
     "execution_count": 4,
     "metadata": {},
     "output_type": "execute_result"
    }
   ],
   "source": [
    "mongo_db_local.drop_collection('user')"
   ]
  },
  {
   "cell_type": "code",
   "execution_count": 6,
   "id": "beebe5e1-4823-4280-a970-49627ebfee71",
   "metadata": {},
   "outputs": [
    {
     "data": {
      "text/plain": [
       "{'nIndexesWas': 1, 'ns': 'local.content', 'ok': 1.0}"
      ]
     },
     "execution_count": 6,
     "metadata": {},
     "output_type": "execute_result"
    }
   ],
   "source": [
    "mongo_db_local.drop_collection('content')"
   ]
  },
  {
   "cell_type": "code",
   "execution_count": null,
   "id": "db3c92b6-a8f3-41a8-920a-4c6b1d1dd6e0",
   "metadata": {},
   "outputs": [],
   "source": []
  }
 ],
 "metadata": {
  "kernelspec": {
   "display_name": "Python 3 (ipykernel)",
   "language": "python",
   "name": "python3"
  },
  "language_info": {
   "codemirror_mode": {
    "name": "ipython",
    "version": 3
   },
   "file_extension": ".py",
   "mimetype": "text/x-python",
   "name": "python",
   "nbconvert_exporter": "python",
   "pygments_lexer": "ipython3",
   "version": "3.8.10"
  }
 },
 "nbformat": 4,
 "nbformat_minor": 5
}
